{
  "nbformat": 4,
  "nbformat_minor": 0,
  "metadata": {
    "colab": {
      "provenance": []
    },
    "kernelspec": {
      "name": "python3",
      "display_name": "Python 3"
    },
    "language_info": {
      "name": "python"
    }
  },
  "cells": [
    {
      "cell_type": "markdown",
      "source": [
        "#Decision Tree Regression Model\n",
        "\n",
        "Decision tree regression is a method used to predict a continuous target variable. Imagine you are trying to predict house prices based on features like size, number of rooms, and location. A decision tree helps you make these predictions by making a series of decisions based on these features.\n",
        "\n",
        "### How Does it Work?\n",
        "\n",
        "#### 1. Tree Structure\n",
        "\n",
        "A decision tree is like a flowchart. Each step in this flowchart asks a question about the data, and based on the answer, it either makes a prediction or asks another question.\n",
        "\n",
        "- **Root Node**: The starting point where the entire dataset is considered.\n",
        "- **Internal Nodes**: Points where decisions are made based on a feature.\n",
        "- **Leaf Nodes**: Endpoints that give a predicted value (like a house price).\n",
        "\n",
        "#### 2. Splitting the Data\n",
        "\n",
        "At each step (node) in the tree, the data is split into two groups. This split is based on a feature that best separates the data to minimize the difference within each group.\n",
        "\n",
        "For example, you might start by asking if the house size is less than 2000 square feet:\n",
        "- **Yes**: Go to the left branch.\n",
        "- **No**: Go to the right branch.\n",
        "\n",
        "#### 3. Choosing the Best Split\n",
        "\n",
        "To find the best split, the algorithm looks at all possible splits for all features. It chooses the split that makes the data in each group as similar as possible. This similarity is measured by how close the actual target values (house prices) are to each other within the group.\n",
        "\n",
        "#### 4. Recursive Splitting\n",
        "\n",
        "The splitting process is repeated for each new group (subset of data):\n",
        "- The left branch is split again based on another feature, say, the number of rooms.\n",
        "- The right branch is split similarly, maybe based on location.\n",
        "\n",
        "This process continues until it either cannot improve the separation or it reaches a predefined limit like the maximum depth of the tree.\n",
        "\n",
        "#### 5. Making Predictions\n",
        "\n",
        "When the tree cannot split further, the algorithm makes a prediction. For each leaf node, the prediction is usually the average of the target values (house prices) of the data points in that leaf.\n",
        "\n",
        "The metrics used to determine the best split are designed to quantify this error or impurity. Here are the most common metrics used for splitting in decision tree regression:\n",
        "\n",
        "### 1. Mean Squared Error (MSE)\n",
        "\n",
        "**Definition**:\n",
        "Mean Squared Error measures the average of the squares of the errors. The error is the difference between the actual value and the predicted value.\n",
        "\n",
        "**Formula**:\n",
        "$ \\text{MSE} = \\frac{1}{N} \\sum_{i=1}^{N} (y_i - \\hat{y})^2 $\n",
        "\n",
        "where:\n",
        "- $ N $ is the number of samples.\n",
        "- $ y_i $ is the actual target value for the $i^{th}$ sample.\n",
        "- $ \\hat{y} $ is the predicted value (mean of the target values in the node).\n",
        "\n",
        "**Usage in Splitting**:\n",
        "When evaluating potential splits, the algorithm calculates the MSE for each potential split. The split that results in the lowest combined MSE for the child nodes is chosen. This minimizes the average squared difference between actual and predicted values, leading to more accurate predictions.\n",
        "\n",
        "### 2. Mean Absolute Error (MAE)\n",
        "\n",
        "**Definition**:\n",
        "Mean Absolute Error measures the average of the absolute differences between the actual values and the predicted values.\n",
        "\n",
        "**Formula**:\n",
        "$ \\text{MAE} = \\frac{1}{N} \\sum_{i=1}^{N} |y_i - \\hat{y}| $\n",
        "\n",
        "**Usage in Splitting**:\n",
        "Similar to MSE, the algorithm evaluates potential splits based on MAE. The split that results in the lowest combined MAE for the child nodes is chosen. This metric is less sensitive to outliers compared to MSE, as it does not square the error terms.\n",
        "\n",
        "### 3. Reduction in Variance\n",
        "\n",
        "**Definition**:\n",
        "Reduction in variance measures how much the variance of the target variable decreases after a split.\n",
        "\n",
        "**Formula**:\n",
        "The variance for a node is given by:\n",
        "$ \\text{Variance} = \\frac{1}{N} \\sum_{i=1}^{N} (y_i - \\bar{y})^2 $\n",
        "\n",
        "where $ \\bar{y} $ is the mean of the target values in the node. For a split, the reduction in variance is calculated as:\n",
        "\n",
        "$ \\Delta \\text{Variance} = \\text{Variance}_{\\text{parent}} - \\left( \\frac{N_L}{N} \\text{Variance}_L + \\frac{N_R}{N} \\text{Variance}_R \\right) $\n",
        "\n",
        "where:\n",
        "- $ \\text{Variance}_{\\text{parent}} $ is the variance of the target variable in the parent node.\n",
        "- $ \\text{Variance}_L $ and $\\text{Variance}_R $ are the variances in the left and right child nodes, respectively.\n",
        "- $ N_L $ and $ N_R $ are the number of samples in the left and right child nodes.\n",
        "\n",
        "**Usage in Splitting**:\n",
        "The algorithm chooses the split that maximizes the reduction in variance. This means the split should create child nodes with lower variance compared to the parent node, indicating more homogeneity in the target values within each child node.\n",
        "\n",
        "By using these metrics, decision tree regression seeks to create splits that result in the most accurate predictions for the target variable. The goal is to have child nodes where the target values are as close as possible to each other, thereby reducing the overall prediction error.\n"
      ],
      "metadata": {
        "id": "CUyWCfIbjkX8"
      }
    },
    {
      "cell_type": "markdown",
      "source": [
        "# Example\n",
        "\n",
        "Predicting the salary of different salary level"
      ],
      "metadata": {
        "id": "tSaONLkgpUy2"
      }
    },
    {
      "cell_type": "code",
      "execution_count": 1,
      "metadata": {
        "id": "ONWEIo_zjdTr"
      },
      "outputs": [],
      "source": [
        "# Import necessary libraries\n",
        "\n",
        "import numpy as np\n",
        "import matplotlib.pyplot as plt\n",
        "import pandas as pd"
      ]
    },
    {
      "cell_type": "code",
      "source": [
        "# Import the data\n",
        "\n",
        "data = pd.read_csv('Position_Salaries.csv')\n",
        "X = data.iloc[:, 1:-1].values\n",
        "y = data.iloc[:, -1].values"
      ],
      "metadata": {
        "id": "WECedX2tpSWR"
      },
      "execution_count": 3,
      "outputs": []
    },
    {
      "cell_type": "markdown",
      "source": [
        "### Training the Decision Tree Model on the Whole Data"
      ],
      "metadata": {
        "id": "q1Xbs72Mp0C_"
      }
    },
    {
      "cell_type": "code",
      "source": [
        "from sklearn.tree import DecisionTreeRegressor\n",
        "regressor = DecisionTreeRegressor(random_state=0)\n",
        "regressor.fit(X,y)"
      ],
      "metadata": {
        "colab": {
          "base_uri": "https://localhost:8080/",
          "height": 75
        },
        "id": "nasA-F2Npp_M",
        "outputId": "1e2f2f97-10fb-480f-9b05-ec1236bfc8ff"
      },
      "execution_count": 5,
      "outputs": [
        {
          "output_type": "execute_result",
          "data": {
            "text/plain": [
              "DecisionTreeRegressor(random_state=0)"
            ],
            "text/html": [
              "<style>#sk-container-id-2 {color: black;background-color: white;}#sk-container-id-2 pre{padding: 0;}#sk-container-id-2 div.sk-toggleable {background-color: white;}#sk-container-id-2 label.sk-toggleable__label {cursor: pointer;display: block;width: 100%;margin-bottom: 0;padding: 0.3em;box-sizing: border-box;text-align: center;}#sk-container-id-2 label.sk-toggleable__label-arrow:before {content: \"▸\";float: left;margin-right: 0.25em;color: #696969;}#sk-container-id-2 label.sk-toggleable__label-arrow:hover:before {color: black;}#sk-container-id-2 div.sk-estimator:hover label.sk-toggleable__label-arrow:before {color: black;}#sk-container-id-2 div.sk-toggleable__content {max-height: 0;max-width: 0;overflow: hidden;text-align: left;background-color: #f0f8ff;}#sk-container-id-2 div.sk-toggleable__content pre {margin: 0.2em;color: black;border-radius: 0.25em;background-color: #f0f8ff;}#sk-container-id-2 input.sk-toggleable__control:checked~div.sk-toggleable__content {max-height: 200px;max-width: 100%;overflow: auto;}#sk-container-id-2 input.sk-toggleable__control:checked~label.sk-toggleable__label-arrow:before {content: \"▾\";}#sk-container-id-2 div.sk-estimator input.sk-toggleable__control:checked~label.sk-toggleable__label {background-color: #d4ebff;}#sk-container-id-2 div.sk-label input.sk-toggleable__control:checked~label.sk-toggleable__label {background-color: #d4ebff;}#sk-container-id-2 input.sk-hidden--visually {border: 0;clip: rect(1px 1px 1px 1px);clip: rect(1px, 1px, 1px, 1px);height: 1px;margin: -1px;overflow: hidden;padding: 0;position: absolute;width: 1px;}#sk-container-id-2 div.sk-estimator {font-family: monospace;background-color: #f0f8ff;border: 1px dotted black;border-radius: 0.25em;box-sizing: border-box;margin-bottom: 0.5em;}#sk-container-id-2 div.sk-estimator:hover {background-color: #d4ebff;}#sk-container-id-2 div.sk-parallel-item::after {content: \"\";width: 100%;border-bottom: 1px solid gray;flex-grow: 1;}#sk-container-id-2 div.sk-label:hover label.sk-toggleable__label {background-color: #d4ebff;}#sk-container-id-2 div.sk-serial::before {content: \"\";position: absolute;border-left: 1px solid gray;box-sizing: border-box;top: 0;bottom: 0;left: 50%;z-index: 0;}#sk-container-id-2 div.sk-serial {display: flex;flex-direction: column;align-items: center;background-color: white;padding-right: 0.2em;padding-left: 0.2em;position: relative;}#sk-container-id-2 div.sk-item {position: relative;z-index: 1;}#sk-container-id-2 div.sk-parallel {display: flex;align-items: stretch;justify-content: center;background-color: white;position: relative;}#sk-container-id-2 div.sk-item::before, #sk-container-id-2 div.sk-parallel-item::before {content: \"\";position: absolute;border-left: 1px solid gray;box-sizing: border-box;top: 0;bottom: 0;left: 50%;z-index: -1;}#sk-container-id-2 div.sk-parallel-item {display: flex;flex-direction: column;z-index: 1;position: relative;background-color: white;}#sk-container-id-2 div.sk-parallel-item:first-child::after {align-self: flex-end;width: 50%;}#sk-container-id-2 div.sk-parallel-item:last-child::after {align-self: flex-start;width: 50%;}#sk-container-id-2 div.sk-parallel-item:only-child::after {width: 0;}#sk-container-id-2 div.sk-dashed-wrapped {border: 1px dashed gray;margin: 0 0.4em 0.5em 0.4em;box-sizing: border-box;padding-bottom: 0.4em;background-color: white;}#sk-container-id-2 div.sk-label label {font-family: monospace;font-weight: bold;display: inline-block;line-height: 1.2em;}#sk-container-id-2 div.sk-label-container {text-align: center;}#sk-container-id-2 div.sk-container {/* jupyter's `normalize.less` sets `[hidden] { display: none; }` but bootstrap.min.css set `[hidden] { display: none !important; }` so we also need the `!important` here to be able to override the default hidden behavior on the sphinx rendered scikit-learn.org. See: https://github.com/scikit-learn/scikit-learn/issues/21755 */display: inline-block !important;position: relative;}#sk-container-id-2 div.sk-text-repr-fallback {display: none;}</style><div id=\"sk-container-id-2\" class=\"sk-top-container\"><div class=\"sk-text-repr-fallback\"><pre>DecisionTreeRegressor(random_state=0)</pre><b>In a Jupyter environment, please rerun this cell to show the HTML representation or trust the notebook. <br />On GitHub, the HTML representation is unable to render, please try loading this page with nbviewer.org.</b></div><div class=\"sk-container\" hidden><div class=\"sk-item\"><div class=\"sk-estimator sk-toggleable\"><input class=\"sk-toggleable__control sk-hidden--visually\" id=\"sk-estimator-id-2\" type=\"checkbox\" checked><label for=\"sk-estimator-id-2\" class=\"sk-toggleable__label sk-toggleable__label-arrow\">DecisionTreeRegressor</label><div class=\"sk-toggleable__content\"><pre>DecisionTreeRegressor(random_state=0)</pre></div></div></div></div></div>"
            ]
          },
          "metadata": {},
          "execution_count": 5
        }
      ]
    },
    {
      "cell_type": "markdown",
      "source": [
        "### Predicting a New Result"
      ],
      "metadata": {
        "id": "cr2TJkH5yIsG"
      }
    },
    {
      "cell_type": "code",
      "source": [
        "regressor.predict([[6.5]])"
      ],
      "metadata": {
        "colab": {
          "base_uri": "https://localhost:8080/"
        },
        "id": "kg_cr6MLyFoJ",
        "outputId": "ca472520-0621-4b5d-b699-773070669974"
      },
      "execution_count": 6,
      "outputs": [
        {
          "output_type": "execute_result",
          "data": {
            "text/plain": [
              "array([150000.])"
            ]
          },
          "metadata": {},
          "execution_count": 6
        }
      ]
    },
    {
      "cell_type": "markdown",
      "source": [
        "### Visualizing the Decision Tree Regression results\n",
        "\n",
        "The graphs in 2D for decision tree is not that explanatory, or helpful. It makes more sense for the higher dimensional data."
      ],
      "metadata": {
        "id": "dklq9gUQyvbY"
      }
    },
    {
      "cell_type": "code",
      "source": [
        "X_grid = np.arange(min(X), max(X), 0.01)\n",
        "X_grid = X_grid.reshape((len(X_grid), 1))\n",
        "plt.scatter(X, y, color = 'blue')\n",
        "plt.plot(X_grid, regressor.predict(X_grid), color = 'black')\n",
        "plt.title('Decision Tree Regression')\n",
        "plt.xlabel('Position level')\n",
        "plt.ylabel('Salary')"
      ],
      "metadata": {
        "colab": {
          "base_uri": "https://localhost:8080/",
          "height": 546
        },
        "id": "g-ZsK-DMyrJt",
        "outputId": "b1b5e9fb-8243-4763-c229-795f2bb4dd73"
      },
      "execution_count": 9,
      "outputs": [
        {
          "output_type": "stream",
          "name": "stderr",
          "text": [
            "<ipython-input-9-61fdcbcf3d29>:1: DeprecationWarning: Conversion of an array with ndim > 0 to a scalar is deprecated, and will error in future. Ensure you extract a single element from your array before performing this operation. (Deprecated NumPy 1.25.)\n",
            "  X_grid = np.arange(min(X), max(X), 0.01)\n"
          ]
        },
        {
          "output_type": "execute_result",
          "data": {
            "text/plain": [
              "Text(0, 0.5, 'Salary')"
            ]
          },
          "metadata": {},
          "execution_count": 9
        },
        {
          "output_type": "display_data",
          "data": {
            "text/plain": [
              "<Figure size 640x480 with 1 Axes>"
            ],
            "image/png": "[encoded data removed]"
          },
          "metadata": {}
        }
      ]
    },
    {
      "cell_type": "code",
      "source": [],
      "metadata": {
        "id": "Kwqb8wJjy9fX"
      },
      "execution_count": null,
      "outputs": []
    }
  ]
}