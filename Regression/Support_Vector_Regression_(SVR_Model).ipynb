{
  "nbformat": 4,
  "nbformat_minor": 0,
  "metadata": {
    "colab": {
      "provenance": []
    },
    "kernelspec": {
      "name": "python3",
      "display_name": "Python 3"
    },
    "language_info": {
      "name": "python"
    }
  },
  "cells": [
    {
      "cell_type": "markdown",
      "source": [
        "# Support Vector Regression (SVR Model)\n",
        "\n",
        "Support Vector Regression (SVR) is a type of Support Vector Machine (SVM) used for regression problems. SVR aims to find a function that approximates the relationship between the independent variables and the dependent variable by minimizing the prediction error, while also ensuring that the model is as simple as possible.\n",
        "\n",
        "### Key Concepts\n",
        "\n",
        "#### 1. Objective\n",
        "SVR seeks to fit a function $ f(x) $ that has at most $ \\epsilon $ deviation from the actual target values for all the training data, while also trying to be as flat as possible.\n",
        "\n",
        "#### 2. Linear SVR\n",
        "For simplicity, let's start with the linear case. In linear SVR, the model predicts the output using a linear function:\n",
        "\n",
        "$f(x) = \\mathbf{w} \\cdot \\mathbf{x} + b$\n",
        "\n",
        "where:\n",
        "- $ \\mathbf{w} $ is a weight vector.\n",
        "- $ \\mathbf{x} $ is the feature vector.\n",
        "- $ b$ is a bias term.\n",
        "\n",
        "#### 3. Loss Function\n",
        "SVR uses the epsilon-insensitive loss function, which ignores errors within a certain threshold $ \\epsilon $:\n",
        "\n",
        "$ L(y, f(x)) = \\max(0, |y - f(x)| - \\epsilon) $\n",
        "\n",
        "This means no penalty is given for errors smaller than $ \\epsilon $. For errors greater than $ \\epsilon $, the loss increases linearly.\n",
        "\n",
        "#### 4. Optimization Problem\n",
        "The goal is to minimize the complexity of the model, measured by $ \\|\\mathbf{w}\\|^2 $, while keeping prediction errors within the $ \\epsilon $-insensitive tube:\n",
        "\n",
        "$ \\min_{\\mathbf{w}, b} \\frac{1}{2} \\|\\mathbf{w}\\|^2 $\n",
        "\n",
        "Subject to:\n",
        "$ y_i - (\\mathbf{w} \\cdot \\mathbf{x}_i + b) \\leq \\epsilon $\n",
        "$ (\\mathbf{w} \\cdot \\mathbf{x}_i + b) - y_i \\leq \\epsilon $\n",
        "\n",
        "To handle data points outside the $\\epsilon $-tube, slack variables $ \\xi_i $ and $ \\xi_i^* $ are introduced:\n",
        "\n",
        "$ y_i - (\\mathbf{w} \\cdot \\mathbf{x}_i + b) \\leq \\epsilon + \\xi_i $\n",
        "$(\\mathbf{w} \\cdot \\mathbf{x}_i + b) - y_i \\leq \\epsilon + \\xi_i^* $\n",
        "\n",
        "with $ \\xi_i, \\xi_i^* \\geq 0 $.\n",
        "\n",
        "The final optimization problem becomes:\n",
        "\n",
        "$ \\min_{\\mathbf{w}, b, \\xi, \\xi^*} \\frac{1}{2} \\|\\mathbf{w}\\|^2 + C \\sum_{i=1}^n (\\xi_i + \\xi_i^*) $\n",
        "\n",
        "where $C $ is a regularization parameter that controls the trade-off between the flatness of the model and the amount up to which deviations larger than $ \\epsilon $ are tolerated.\n",
        "\n",
        "#### 5. Non-Linear SVR\n",
        "For non-linear relationships, the input data can be transformed into a higher-dimensional space using a kernel function $ K(\\mathbf{x}_i, \\mathbf{x}_j) $. Common kernels include:\n",
        "\n",
        "- **Linear Kernel**: $ K(\\mathbf{x}_i, \\mathbf{x}_j) = \\mathbf{x}_i \\cdot \\mathbf{x}_j $\n",
        "- **Polynomial Kernel**: $ K(\\mathbf{x}_i, \\mathbf{x}_j) = (\\mathbf{x}_i \\cdot \\mathbf{x}_j + c)^d $\n",
        "- **Radial Basis Function (RBF) Kernel**: $ K(\\mathbf{x}_i, \\mathbf{x}_j) = \\exp(-\\gamma \\|\\mathbf{x}_i - \\mathbf{x}_j\\|^2) $\n",
        "\n",
        "By applying a kernel function, SVR can efficiently handle non-linear regression problems.\n",
        "\n",
        "### Steps in SVR\n",
        "\n",
        "1. **Data Preparation**:\n",
        "   - Collect and preprocess the data. Normalize or standardize the features if necessary.\n",
        "\n",
        "2. **Kernel Selection**:\n",
        "   - Choose an appropriate kernel function based on the nature of the data and the problem.\n",
        "\n",
        "3. **Model Training**:\n",
        "   - Train the SVR model using the training data to find the optimal $ \\mathbf{w} $ and \\( b $ (and slack variables if necessary).\n",
        "\n",
        "4. **Model Evaluation**:\n",
        "   - Evaluate the performance of the model using appropriate regression metrics such as Mean Squared Error (MSE) or R-squared ($ R^2 $).\n",
        "\n",
        "5. **Prediction**:\n",
        "   - Use the trained SVR model to make predictions on new data points.\n",
        "\n",
        "### Advantages and Disadvantages\n",
        "\n",
        "#### Advantages:\n",
        "- **Flexibility**: SVR can model both linear and non-linear relationships through the use of kernel functions.\n",
        "- **Robustness**: The $ \\epsilon $-insensitive loss function makes SVR less sensitive to outliers.\n",
        "- **Generalization**: The regularization parameter $ C $ helps in controlling overfitting.\n",
        "\n",
        "#### Disadvantages:\n",
        "- **Computationally Intensive**: Training an SVR, especially with non-linear kernels, can be computationally expensive.\n",
        "- **Parameter Tuning**: The performance of SVR heavily depends on the choice of parameters (kernel type, $ C $, $\\epsilon $), which may require extensive cross-validation."
      ],
      "metadata": {
        "id": "ziyx1r_brxDR"
      }
    },
    {
      "cell_type": "markdown",
      "source": [
        "# Example\n",
        "\n",
        "Predicting Salary based on the Position.\n",
        "\n",
        "This is the same problem we solved using Polynomial Regression.d"
      ],
      "metadata": {
        "id": "vUjgloIl3XOm"
      }
    },
    {
      "cell_type": "code",
      "execution_count": 28,
      "metadata": {
        "id": "sp5GeULKrwja"
      },
      "outputs": [],
      "source": [
        "# import the libraries\n",
        "\n",
        "import numpy as np\n",
        "import matplotlib.pyplot as plt\n",
        "import pandas as pd"
      ]
    },
    {
      "cell_type": "code",
      "source": [
        "# Import the Data\n",
        "\n",
        "data = pd.read_csv('Position_Salaries.csv')\n",
        "X = data.iloc[:, 1:-1].values\n",
        "y = data.iloc[:,-1].values"
      ],
      "metadata": {
        "id": "evhgOmuo30Nx"
      },
      "execution_count": 29,
      "outputs": []
    },
    {
      "cell_type": "code",
      "source": [
        "print(X)"
      ],
      "metadata": {
        "colab": {
          "base_uri": "https://localhost:8080/"
        },
        "id": "Q88Q9UXRDdsY",
        "outputId": "ad80e7d3-5b96-4439-ab99-cf8b48dbdb30"
      },
      "execution_count": 30,
      "outputs": [
        {
          "output_type": "stream",
          "name": "stdout",
          "text": [
            "[[ 1]\n",
            " [ 2]\n",
            " [ 3]\n",
            " [ 4]\n",
            " [ 5]\n",
            " [ 6]\n",
            " [ 7]\n",
            " [ 8]\n",
            " [ 9]\n",
            " [10]]\n"
          ]
        }
      ]
    },
    {
      "cell_type": "code",
      "source": [
        "print(y)"
      ],
      "metadata": {
        "colab": {
          "base_uri": "https://localhost:8080/"
        },
        "id": "v3o2KAKnDgNn",
        "outputId": "d17974a1-7ca2-4f06-9b65-4b4a21ca2f52"
      },
      "execution_count": 31,
      "outputs": [
        {
          "output_type": "stream",
          "name": "stdout",
          "text": [
            "[  45000   50000   60000   80000  110000  150000  200000  300000  500000\n",
            " 1000000]\n"
          ]
        }
      ]
    },
    {
      "cell_type": "code",
      "source": [
        "# Convert y data into 2-D array from current 1-D array\n",
        "# feature scaling requies 2-D array\n",
        "y = y.reshape(len(y),1)\n",
        "print(y)"
      ],
      "metadata": {
        "colab": {
          "base_uri": "https://localhost:8080/"
        },
        "id": "lujHDF0pDvDV",
        "outputId": "f7712c1d-b4e2-4b8d-f41d-95cf3dab2003"
      },
      "execution_count": 32,
      "outputs": [
        {
          "output_type": "stream",
          "name": "stdout",
          "text": [
            "[[  45000]\n",
            " [  50000]\n",
            " [  60000]\n",
            " [  80000]\n",
            " [ 110000]\n",
            " [ 150000]\n",
            " [ 200000]\n",
            " [ 300000]\n",
            " [ 500000]\n",
            " [1000000]]\n"
          ]
        }
      ]
    },
    {
      "cell_type": "markdown",
      "source": [
        "# Feature Scaling"
      ],
      "metadata": {
        "id": "QT5nAwHC4Z7L"
      }
    },
    {
      "cell_type": "code",
      "source": [
        "from sklearn.preprocessing import StandardScaler\n",
        "sc_X = StandardScaler()\n",
        "sc_y = StandardScaler()\n",
        "X = sc_X.fit_transform(X)\n",
        "y = sc_y.fit_transform(y)\n",
        "\n",
        "print(X)"
      ],
      "metadata": {
        "colab": {
          "base_uri": "https://localhost:8080/"
        },
        "id": "DwKwl0Jv4Te_",
        "outputId": "4582df2c-b1d6-4a54-f09f-d396791f2200"
      },
      "execution_count": 33,
      "outputs": [
        {
          "output_type": "stream",
          "name": "stdout",
          "text": [
            "[[-1.5666989 ]\n",
            " [-1.21854359]\n",
            " [-0.87038828]\n",
            " [-0.52223297]\n",
            " [-0.17407766]\n",
            " [ 0.17407766]\n",
            " [ 0.52223297]\n",
            " [ 0.87038828]\n",
            " [ 1.21854359]\n",
            " [ 1.5666989 ]]\n"
          ]
        }
      ]
    },
    {
      "cell_type": "code",
      "source": [
        "print (y)"
      ],
      "metadata": {
        "colab": {
          "base_uri": "https://localhost:8080/"
        },
        "id": "PC7C0l7gFk3s",
        "outputId": "ba6cc62c-1cf5-46cd-833b-a294613c46f9"
      },
      "execution_count": 34,
      "outputs": [
        {
          "output_type": "stream",
          "name": "stdout",
          "text": [
            "[[-0.72004253]\n",
            " [-0.70243757]\n",
            " [-0.66722767]\n",
            " [-0.59680786]\n",
            " [-0.49117815]\n",
            " [-0.35033854]\n",
            " [-0.17428902]\n",
            " [ 0.17781001]\n",
            " [ 0.88200808]\n",
            " [ 2.64250325]]\n"
          ]
        }
      ]
    },
    {
      "cell_type": "code",
      "source": [
        "# Let's train the SVR model on the whole data\n",
        "\n",
        "from sklearn.svm import SVR\n",
        "regressor = SVR(kernel = 'rbf')\n",
        "regressor.fit(X,y)"
      ],
      "metadata": {
        "colab": {
          "base_uri": "https://localhost:8080/",
          "height": 130
        },
        "id": "ugL81fk9FbZW",
        "outputId": "a1337c47-16d3-4bf0-b8cf-fcdd6b55d6ee"
      },
      "execution_count": 35,
      "outputs": [
        {
          "output_type": "stream",
          "name": "stderr",
          "text": [
            "/usr/local/lib/python3.10/dist-packages/sklearn/utils/validation.py:1143: DataConversionWarning: A column-vector y was passed when a 1d array was expected. Please change the shape of y to (n_samples, ), for example using ravel().\n",
            "  y = column_or_1d(y, warn=True)\n"
          ]
        },
        {
          "output_type": "execute_result",
          "data": {
            "text/plain": [
              "SVR()"
            ],
            "text/html": [
              "<style>#sk-container-id-5 {color: black;background-color: white;}#sk-container-id-5 pre{padding: 0;}#sk-container-id-5 div.sk-toggleable {background-color: white;}#sk-container-id-5 label.sk-toggleable__label {cursor: pointer;display: block;width: 100%;margin-bottom: 0;padding: 0.3em;box-sizing: border-box;text-align: center;}#sk-container-id-5 label.sk-toggleable__label-arrow:before {content: \"▸\";float: left;margin-right: 0.25em;color: #696969;}#sk-container-id-5 label.sk-toggleable__label-arrow:hover:before {color: black;}#sk-container-id-5 div.sk-estimator:hover label.sk-toggleable__label-arrow:before {color: black;}#sk-container-id-5 div.sk-toggleable__content {max-height: 0;max-width: 0;overflow: hidden;text-align: left;background-color: #f0f8ff;}#sk-container-id-5 div.sk-toggleable__content pre {margin: 0.2em;color: black;border-radius: 0.25em;background-color: #f0f8ff;}#sk-container-id-5 input.sk-toggleable__control:checked~div.sk-toggleable__content {max-height: 200px;max-width: 100%;overflow: auto;}#sk-container-id-5 input.sk-toggleable__control:checked~label.sk-toggleable__label-arrow:before {content: \"▾\";}#sk-container-id-5 div.sk-estimator input.sk-toggleable__control:checked~label.sk-toggleable__label {background-color: #d4ebff;}#sk-container-id-5 div.sk-label input.sk-toggleable__control:checked~label.sk-toggleable__label {background-color: #d4ebff;}#sk-container-id-5 input.sk-hidden--visually {border: 0;clip: rect(1px 1px 1px 1px);clip: rect(1px, 1px, 1px, 1px);height: 1px;margin: -1px;overflow: hidden;padding: 0;position: absolute;width: 1px;}#sk-container-id-5 div.sk-estimator {font-family: monospace;background-color: #f0f8ff;border: 1px dotted black;border-radius: 0.25em;box-sizing: border-box;margin-bottom: 0.5em;}#sk-container-id-5 div.sk-estimator:hover {background-color: #d4ebff;}#sk-container-id-5 div.sk-parallel-item::after {content: \"\";width: 100%;border-bottom: 1px solid gray;flex-grow: 1;}#sk-container-id-5 div.sk-label:hover label.sk-toggleable__label {background-color: #d4ebff;}#sk-container-id-5 div.sk-serial::before {content: \"\";position: absolute;border-left: 1px solid gray;box-sizing: border-box;top: 0;bottom: 0;left: 50%;z-index: 0;}#sk-container-id-5 div.sk-serial {display: flex;flex-direction: column;align-items: center;background-color: white;padding-right: 0.2em;padding-left: 0.2em;position: relative;}#sk-container-id-5 div.sk-item {position: relative;z-index: 1;}#sk-container-id-5 div.sk-parallel {display: flex;align-items: stretch;justify-content: center;background-color: white;position: relative;}#sk-container-id-5 div.sk-item::before, #sk-container-id-5 div.sk-parallel-item::before {content: \"\";position: absolute;border-left: 1px solid gray;box-sizing: border-box;top: 0;bottom: 0;left: 50%;z-index: -1;}#sk-container-id-5 div.sk-parallel-item {display: flex;flex-direction: column;z-index: 1;position: relative;background-color: white;}#sk-container-id-5 div.sk-parallel-item:first-child::after {align-self: flex-end;width: 50%;}#sk-container-id-5 div.sk-parallel-item:last-child::after {align-self: flex-start;width: 50%;}#sk-container-id-5 div.sk-parallel-item:only-child::after {width: 0;}#sk-container-id-5 div.sk-dashed-wrapped {border: 1px dashed gray;margin: 0 0.4em 0.5em 0.4em;box-sizing: border-box;padding-bottom: 0.4em;background-color: white;}#sk-container-id-5 div.sk-label label {font-family: monospace;font-weight: bold;display: inline-block;line-height: 1.2em;}#sk-container-id-5 div.sk-label-container {text-align: center;}#sk-container-id-5 div.sk-container {/* jupyter's `normalize.less` sets `[hidden] { display: none; }` but bootstrap.min.css set `[hidden] { display: none !important; }` so we also need the `!important` here to be able to override the default hidden behavior on the sphinx rendered scikit-learn.org. See: https://github.com/scikit-learn/scikit-learn/issues/21755 */display: inline-block !important;position: relative;}#sk-container-id-5 div.sk-text-repr-fallback {display: none;}</style><div id=\"sk-container-id-5\" class=\"sk-top-container\"><div class=\"sk-text-repr-fallback\"><pre>SVR()</pre><b>In a Jupyter environment, please rerun this cell to show the HTML representation or trust the notebook. <br />On GitHub, the HTML representation is unable to render, please try loading this page with nbviewer.org.</b></div><div class=\"sk-container\" hidden><div class=\"sk-item\"><div class=\"sk-estimator sk-toggleable\"><input class=\"sk-toggleable__control sk-hidden--visually\" id=\"sk-estimator-id-5\" type=\"checkbox\" checked><label for=\"sk-estimator-id-5\" class=\"sk-toggleable__label sk-toggleable__label-arrow\">SVR</label><div class=\"sk-toggleable__content\"><pre>SVR()</pre></div></div></div></div></div>"
            ]
          },
          "metadata": {},
          "execution_count": 35
        }
      ]
    },
    {
      "cell_type": "code",
      "source": [
        "sc_y.inverse_transform(regressor.predict(sc_X.transform([[6.5]])).reshape(-1,1))"
      ],
      "metadata": {
        "colab": {
          "base_uri": "https://localhost:8080/"
        },
        "id": "TSt4JydpF_kZ",
        "outputId": "f4cb5043-b986-4d61-b2db-0d12c19b04e7"
      },
      "execution_count": 36,
      "outputs": [
        {
          "output_type": "execute_result",
          "data": {
            "text/plain": [
              "array([[170370.0204065]])"
            ]
          },
          "metadata": {},
          "execution_count": 36
        }
      ]
    },
    {
      "cell_type": "markdown",
      "source": [
        "The Polynomial Regression had predicted as:\n",
        "\n",
        "array([158862.45265155])"
      ],
      "metadata": {
        "id": "4DajtEToMcIJ"
      }
    },
    {
      "cell_type": "markdown",
      "source": [
        "## Visualizing the SVR results"
      ],
      "metadata": {
        "id": "bi5gEj4aJ-u3"
      }
    },
    {
      "cell_type": "code",
      "source": [
        "plt.scatter(sc_X.inverse_transform(X), sc_y.inverse_transform(y), color = 'blue')\n",
        "plt.plot(sc_X.inverse_transform(X), sc_y.inverse_transform(regressor.predict(X).reshape(-1,1)), color = 'black')\n",
        "\n",
        "plt.title('SVR')\n",
        "plt.xlabel('Position Level')\n",
        "plt.ylabel('Salary')"
      ],
      "metadata": {
        "colab": {
          "base_uri": "https://localhost:8080/",
          "height": 490
        },
        "id": "p3RZUCNwHTzU",
        "outputId": "258d501c-9fdb-4f3c-8507-b0faba3fcc61"
      },
      "execution_count": 40,
      "outputs": [
        {
          "output_type": "execute_result",
          "data": {
            "text/plain": [
              "Text(0, 0.5, 'Salary')"
            ]
          },
          "metadata": {},
          "execution_count": 40
        },
        {
          "output_type": "display_data",
          "data": {
            "text/plain": [
              "<Figure size 640x480 with 1 Axes>"
            ],
            "image/png": "[encoded data removed]"
          },
          "metadata": {}
        }
      ]
    },
    {
      "cell_type": "code",
      "source": [
        "# Visualising the SVR results (for higher resolution and smoother curve)\n",
        "X_grid = np.arange(min(sc_X.inverse_transform(X)), max(sc_X.inverse_transform(X)), 0.1)\n",
        "X_grid = X_grid.reshape((len(X_grid), 1))\n",
        "plt.scatter(sc_X.inverse_transform(X), sc_y.inverse_transform(y), color = 'red')\n",
        "plt.plot(X_grid, sc_y.inverse_transform(regressor.predict(sc_X.transform(X_grid)).reshape(-1,1)), color = 'blue')\n",
        "plt.title('Truth or Bluff (SVR)')\n",
        "plt.xlabel('Position level')\n",
        "plt.ylabel('Salary')\n",
        "plt.show()"
      ],
      "metadata": {
        "colab": {
          "base_uri": "https://localhost:8080/",
          "height": 528
        },
        "id": "lppZWkbCK8ke",
        "outputId": "d2ed8817-068f-4be6-e92f-e3d479e177d1"
      },
      "execution_count": 42,
      "outputs": [
        {
          "output_type": "stream",
          "name": "stderr",
          "text": [
            "<ipython-input-42-ecfb12342f2a>:2: DeprecationWarning: Conversion of an array with ndim > 0 to a scalar is deprecated, and will error in future. Ensure you extract a single element from your array before performing this operation. (Deprecated NumPy 1.25.)\n",
            "  X_grid = np.arange(min(sc_X.inverse_transform(X)), max(sc_X.inverse_transform(X)), 0.1)\n"
          ]
        },
        {
          "output_type": "display_data",
          "data": {
            "text/plain": [
              "<Figure size 640x480 with 1 Axes>"
            ],
            "image/png": "[encoded data removed]"
          },
          "metadata": {}
        }
      ]
    },
    {
      "cell_type": "code",
      "source": [],
      "metadata": {
        "id": "zXf6GuuWLiFj"
      },
      "execution_count": null,
      "outputs": []
    }
  ]
}